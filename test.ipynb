{
 "cells": [
  {
   "cell_type": "code",
   "execution_count": 1,
   "metadata": {},
   "outputs": [],
   "source": [
    "import torch"
   ]
  },
  {
   "cell_type": "code",
   "execution_count": 2,
   "metadata": {},
   "outputs": [
    {
     "name": "stdout",
     "output_type": "stream",
     "text": [
      "tensor([[ 5.1595e+02,  3.0943e-41,  6.0256e-44],\n",
      "        [ 0.0000e+00,         nan,  0.0000e+00],\n",
      "        [ 1.3733e-14,  9.5680e+20,  7.2065e+31],\n",
      "        [ 2.6301e+20,  1.4601e-19,  6.4069e+02],\n",
      "        [ 4.3066e+21,  1.1824e+22,  4.3066e+21]])\n"
     ]
    }
   ],
   "source": [
    "x = torch.Tensor(5, 3)\n",
    "print(x)"
   ]
  },
  {
   "cell_type": "code",
   "execution_count": 4,
   "metadata": {},
   "outputs": [
    {
     "data": {
      "text/plain": [
       "tensor([[ 0.0819,  0.4842, -0.4901, -0.2705,  0.1279],\n",
       "        [-0.1011,  0.2063, -0.3073, -0.5398,  0.7833],\n",
       "        [-0.0614, -0.9034, -0.2536,  0.2427,  0.0308]])"
      ]
     },
     "execution_count": 4,
     "metadata": {},
     "output_type": "execute_result"
    }
   ],
   "source": [
    "w = torch.empty(3, 5)\n",
    "torch.nn.init.xavier_normal_(w)"
   ]
  },
  {
   "cell_type": "code",
   "execution_count": 12,
   "metadata": {},
   "outputs": [
    {
     "data": {
      "text/plain": [
       "tensor([[ 0.2040,  0.8570,  0.3781,  0.2293,  0.9283],\n",
       "        [ 0.8312,  0.7404,  0.4438,  0.5233,  0.7835],\n",
       "        [ 0.1669,  0.4792,  0.8216,  0.6270,  0.5834]])"
      ]
     },
     "execution_count": 12,
     "metadata": {},
     "output_type": "execute_result"
    }
   ],
   "source": [
    "w = torch.empty(3, 5)\n",
    "torch.nn.init.normal_(w, mean=0.5, std=0.2)"
   ]
  },
  {
   "cell_type": "code",
   "execution_count": 22,
   "metadata": {},
   "outputs": [
    {
     "data": {
      "text/plain": [
       "tensor([[ 3.1416,  3.1416,  3.1416,  3.1416],\n",
       "        [ 3.1416,  3.1416,  3.1416,  3.1416],\n",
       "        [ 3.1416,  3.1416,  3.1416,  3.1416]], dtype=torch.float64)"
      ]
     },
     "execution_count": 22,
     "metadata": {},
     "output_type": "execute_result"
    }
   ],
   "source": [
    "tensor = torch.tensor(1)\n",
    "tensor.new_full((3, 4), fill_value=3.141592, dtype=torch.float64)"
   ]
  },
  {
   "cell_type": "code",
   "execution_count": 26,
   "metadata": {},
   "outputs": [
    {
     "data": {
      "text/plain": [
       "tensor([[ 3.1416,  3.1416,  3.1416,  3.1416],\n",
       "        [ 3.1416,  3.1416,  3.1416,  3.1416],\n",
       "        [ 3.1416,  3.1416,  3.1416,  3.1416]], dtype=torch.float64)"
      ]
     },
     "execution_count": 26,
     "metadata": {},
     "output_type": "execute_result"
    }
   ],
   "source": [
    "tensor = torch.ones((3,4), dtype=torch.float64) * 3.141592\n",
    "tensor"
   ]
  },
  {
   "cell_type": "code",
   "execution_count": null,
   "metadata": {},
   "outputs": [],
   "source": []
  }
 ],
 "metadata": {
  "kernelspec": {
   "display_name": "Python 3",
   "language": "python",
   "name": "python3"
  },
  "language_info": {
   "codemirror_mode": {
    "name": "ipython",
    "version": 3
   },
   "file_extension": ".py",
   "mimetype": "text/x-python",
   "name": "python",
   "nbconvert_exporter": "python",
   "pygments_lexer": "ipython3",
   "version": "3.6.4"
  }
 },
 "nbformat": 4,
 "nbformat_minor": 2
}
