{
 "cells": [
  {
   "cell_type": "code",
   "execution_count": 1,
   "metadata": {},
   "outputs": [],
   "source": [
    "import torch"
   ]
  },
  {
   "cell_type": "code",
   "execution_count": 2,
   "metadata": {},
   "outputs": [
    {
     "name": "stdout",
     "output_type": "stream",
     "text": [
      "tensor([[ 5.1595e+02,  3.0943e-41,  6.0256e-44],\n",
      "        [ 0.0000e+00,         nan,  0.0000e+00],\n",
      "        [ 1.3733e-14,  9.5680e+20,  7.2065e+31],\n",
      "        [ 2.6301e+20,  1.4601e-19,  6.4069e+02],\n",
      "        [ 4.3066e+21,  1.1824e+22,  4.3066e+21]])\n"
     ]
    }
   ],
   "source": [
    "x = torch.Tensor(5, 3)\n",
    "print(x)"
   ]
  },
  {
   "cell_type": "code",
   "execution_count": 4,
   "metadata": {},
   "outputs": [
    {
     "data": {
      "text/plain": [
       "tensor([[ 0.0819,  0.4842, -0.4901, -0.2705,  0.1279],\n",
       "        [-0.1011,  0.2063, -0.3073, -0.5398,  0.7833],\n",
       "        [-0.0614, -0.9034, -0.2536,  0.2427,  0.0308]])"
      ]
     },
     "execution_count": 4,
     "metadata": {},
     "output_type": "execute_result"
    }
   ],
   "source": [
    "w = torch.empty(3, 5)\n",
    "torch.nn.init.xavier_normal_(w)"
   ]
  },
  {
   "cell_type": "code",
   "execution_count": 12,
   "metadata": {},
   "outputs": [
    {
     "data": {
      "text/plain": [
       "tensor([[ 0.2040,  0.8570,  0.3781,  0.2293,  0.9283],\n",
       "        [ 0.8312,  0.7404,  0.4438,  0.5233,  0.7835],\n",
       "        [ 0.1669,  0.4792,  0.8216,  0.6270,  0.5834]])"
      ]
     },
     "execution_count": 12,
     "metadata": {},
     "output_type": "execute_result"
    }
   ],
   "source": [
    "w = torch.empty(3, 5)\n",
    "torch.nn.init.normal_(w, mean=0.5, std=0.2)"
   ]
  },
  {
   "cell_type": "code",
   "execution_count": 22,
   "metadata": {},
   "outputs": [
    {
     "data": {
      "text/plain": [
       "tensor([[ 3.1416,  3.1416,  3.1416,  3.1416],\n",
       "        [ 3.1416,  3.1416,  3.1416,  3.1416],\n",
       "        [ 3.1416,  3.1416,  3.1416,  3.1416]], dtype=torch.float64)"
      ]
     },
     "execution_count": 22,
     "metadata": {},
     "output_type": "execute_result"
    }
   ],
   "source": [
    "tensor = torch.tensor(1)\n",
    "tensor.new_full((3, 4), fill_value=3.141592, dtype=torch.float64)"
   ]
  },
  {
   "cell_type": "code",
   "execution_count": 26,
   "metadata": {},
   "outputs": [
    {
     "data": {
      "text/plain": [
       "tensor([[ 3.1416,  3.1416,  3.1416,  3.1416],\n",
       "        [ 3.1416,  3.1416,  3.1416,  3.1416],\n",
       "        [ 3.1416,  3.1416,  3.1416,  3.1416]], dtype=torch.float64)"
      ]
     },
     "execution_count": 26,
     "metadata": {},
     "output_type": "execute_result"
    }
   ],
   "source": [
    "tensor = torch.ones((3,4), dtype=torch.float64) * 3.141592\n",
    "tensor"
   ]
  },
  {
   "cell_type": "code",
   "execution_count": 3,
   "metadata": {},
   "outputs": [
    {
     "data": {
      "text/plain": [
       "torch.Size([10, 3, 5])"
      ]
     },
     "execution_count": 3,
     "metadata": {},
     "output_type": "execute_result"
    }
   ],
   "source": [
    "batch1 = torch.randn(10, 3, 4)\n",
    "batch2 = torch.randn(10, 4, 5)\n",
    "res = torch.bmm(batch1, batch2)\n",
    "res.size()"
   ]
  },
  {
   "cell_type": "code",
   "execution_count": null,
   "metadata": {},
   "outputs": [],
   "source": [
    "BATCH_SIZE = 2\n",
    "NUM_MEMORY_BITS = 3\n",
    "NUM_MEMORY_ADDRESSES = 2"
   ]
  },
  {
   "cell_type": "code",
   "execution_count": 62,
   "metadata": {},
   "outputs": [
    {
     "name": "stdout",
     "output_type": "stream",
     "text": [
      "tensor([[[-0.6074, -0.9557],\n",
      "         [-0.3845, -0.0649],\n",
      "         [ 0.9058, -0.9161]],\n",
      "\n",
      "        [[-0.6229,  0.2015],\n",
      "         [ 2.0510,  1.9906],\n",
      "         [ 1.8665,  1.8741]]])\n",
      "tensor([[ 1.2010, -0.0902,  1.3180],\n",
      "        [ 0.3142,  0.2392,  1.1101]])\n"
     ]
    }
   ],
   "source": [
    "memory = torch.randn(BATCH_SIZE, NUM_MEMORY_BITS, NUM_MEMORY_ADDRESSES)\n",
    "print(memory)\n",
    "query_key = torch.randn(BATCH_SIZE, NUM_MEMORY_BITS)\n",
    "print(query_key)"
   ]
  },
  {
   "cell_type": "code",
   "execution_count": 63,
   "metadata": {},
   "outputs": [
    {
     "data": {
      "text/plain": [
       "torch.Size([2, 2, 2])"
      ]
     },
     "execution_count": 63,
     "metadata": {},
     "output_type": "execute_result"
    }
   ],
   "source": [
    "res = torch.matmul(query_key, memory).squeeze(1)\n",
    "res.size()"
   ]
  },
  {
   "cell_type": "code",
   "execution_count": 68,
   "metadata": {},
   "outputs": [
    {
     "data": {
      "text/plain": [
       "tensor([[[ 0.1000,  0.1000],\n",
       "         [ 0.2000,  0.4000],\n",
       "         [ 0.3000,  0.0000]],\n",
       "\n",
       "        [[ 0.7000,  0.1000],\n",
       "         [ 0.4000,  0.1000],\n",
       "         [ 0.1000,  0.2000]]])"
      ]
     },
     "execution_count": 68,
     "metadata": {},
     "output_type": "execute_result"
    }
   ],
   "source": [
    "memory = torch.tensor(\n",
    "        [[[0.1, 0.1],\n",
    "         [ 0.2, 0.4],\n",
    "         [ 0.3,  0.0]],\n",
    "\n",
    "        [[ 0.7, 0.1],\n",
    "         [0.4,  0.1],\n",
    "         [ 0.1, 0.2]]])\n",
    "memory"
   ]
  },
  {
   "cell_type": "code",
   "execution_count": 69,
   "metadata": {},
   "outputs": [
    {
     "data": {
      "text/plain": [
       "tensor([[ 0.1000,  0.2000,  0.3000],\n",
       "        [ 0.7000,  0.4000,  0.1000]])"
      ]
     },
     "execution_count": 69,
     "metadata": {},
     "output_type": "execute_result"
    }
   ],
   "source": [
    "query_key = torch.tensor([[0.1, 0.2, 0.3],\n",
    "        [0.7, 0.4, 0.1]])\n",
    "query_key"
   ]
  },
  {
   "cell_type": "code",
   "execution_count": 70,
   "metadata": {},
   "outputs": [
    {
     "name": "stdout",
     "output_type": "stream",
     "text": [
      "tensor([[ 0.1400,  0.0900],\n",
      "        [ 0.6600,  0.1300]])\n",
      "torch.Size([2, 2])\n"
     ]
    }
   ],
   "source": [
    "res = torch.matmul(query_key.unsqueeze(1), memory).squeeze(1)\n",
    "print(res)\n",
    "print(res.size())"
   ]
  },
  {
   "cell_type": "code",
   "execution_count": null,
   "metadata": {},
   "outputs": [],
   "source": []
  }
 ],
 "metadata": {
  "kernelspec": {
   "display_name": "Python 3",
   "language": "python",
   "name": "python3"
  },
  "language_info": {
   "codemirror_mode": {
    "name": "ipython",
    "version": 3
   },
   "file_extension": ".py",
   "mimetype": "text/x-python",
   "name": "python",
   "nbconvert_exporter": "python",
   "pygments_lexer": "ipython3",
   "version": "3.6.4"
  }
 },
 "nbformat": 4,
 "nbformat_minor": 2
}
